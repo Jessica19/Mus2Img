{
 "cells": [
  {
   "cell_type": "code",
   "execution_count": 23,
   "metadata": {},
   "outputs": [],
   "source": [
    "# sklearn imports\n",
    "from sklearn.cluster import KMeans \n",
    "from sklearn.datasets.samples_generator import make_blobs\n",
    "\n",
    "# import opencv\n",
    "import cv2\n",
    "\n",
    "# matplotlib imports\n",
    "\n",
    "from matplotlib import pyplot as plt\n",
    "\n",
    "# other imports\n",
    "import os\n",
    "import re\n",
    "import numpy as np\n",
    "import pandas as pd\n",
    "from collections import Counter"
   ]
  },
  {
   "cell_type": "code",
   "execution_count": 5,
   "metadata": {},
   "outputs": [],
   "source": [
    "def orderFrames(delimiter,frames):\n",
    "    end = \"_{0}\".format(frames[0].split(delimiter)[-1])\n",
    "    return len(frames), end"
   ]
  },
  {
   "cell_type": "code",
   "execution_count": 37,
   "metadata": {},
   "outputs": [],
   "source": [
    "def least_common(data: list): \n",
    "    \"\"\" returns least common element\"\"\"\n",
    "    return Counter(data).most_common()[-1]"
   ]
  },
  {
   "cell_type": "code",
   "execution_count": 79,
   "metadata": {},
   "outputs": [],
   "source": [
    "def crop_img(start, stop, old_path, new_path):\n",
    "    img = cv2.imread(old_path)\n",
    "    cv2.imwrite(new_path, img[:, start:stop])\n",
    "    return True"
   ]
  },
  {
   "cell_type": "code",
   "execution_count": 8,
   "metadata": {
    "scrolled": true
   },
   "outputs": [],
   "source": [
    "frames = os.listdir(\"../Frames\")\n",
    "\n",
    "size, end = orderFrames('_', frames)\n",
    "\n",
    "# accessing first image\n",
    "first_img = \"0{0}\".format(end)\n",
    "original_image = cv2.imread('../Frames/{0}'.format(first_img))"
   ]
  },
  {
   "cell_type": "code",
   "execution_count": 75,
   "metadata": {
    "scrolled": false
   },
   "outputs": [
    {
     "data": {
      "text/plain": [
       "<matplotlib.image.AxesImage at 0x7f46d0698128>"
      ]
     },
     "execution_count": 75,
     "metadata": {},
     "output_type": "execute_result"
    },
    {
     "data": {
      "image/png": "[encoded data removed]",
      "text/plain": [
       "<Figure size 432x288 with 1 Axes>"
      ]
     },
     "metadata": {
      "needs_background": "light"
     },
     "output_type": "display_data"
    }
   ],
   "source": [
    "# separating image in 2 clusters\n",
    "clusters = 2\n",
    "model = KMeans(n_clusters=clusters, algorithm='auto')\n",
    "model.fit(vectorized)\n",
    "labels = model.predict(vectorized)\n",
    "print('first clustering completed')\n",
    "\n",
    "\"\"\"\n",
    "    importante testar resultados com images clusterizadas também\n",
    "\"\"\"\n",
    "# # transforming float to int \n",
    "# centers = np.uint8(model.cluster_centers_)\n",
    "# result = centers[labels.flatten()]\n",
    "# new_img = result.reshape((original_image.shape))\n",
    "# plt.imshow(new_img)\n",
    "\n",
    "# getting only pixels with less occurrences\n",
    "lcl = least_common(labels)[0] # lcl = least_common_label\n",
    "\n",
    "pixels = []\n",
    "reshaped_label = labels.reshape(original_image.shape[:2])\n",
    "for i, line in enumerate(reshaped_label):\n",
    "    for j, val in enumerate(line):\n",
    "        if val == lcl: pixels.append([i,j])\n",
    "pixels = np.array(pixels)\n",
    "\n",
    "# getting position of classes \n",
    "specCluster = SpectralClustering(n_clusters=3, affinity='nearest_neighbors', assign_labels='kmeans')\n",
    "lsc = specCluster.fit_predict(pixels) # labels spectral clustering\n",
    "print('second clustering completed')\n",
    "\n",
    "# getting positions of least common group \n",
    "x_pos = np.array([[pixels[pos,0], pixels[pos,1]] for pos, val in enumerate(lsc) if val == least_common(lsc)[0]])\n",
    "start, stop = min(x_pos[:,1]),max(x_pos[:,1])\n",
    "print('start and stop founds')\n",
    "\n",
    "# cropping image based on position gaved\n",
    "\n",
    "all_img = original_image[:,start:stop]\n",
    "plt.imshow(all_img)"
   ]
  },
  {
   "cell_type": "code",
   "execution_count": 80,
   "metadata": {},
   "outputs": [],
   "source": [
    "# cropping all images and saving in just_dance_dataset\n",
    "for i in range(size):\n",
    "    old_path = '../Frames/{0}{1}'.format(i,end)\n",
    "    new_path = 'just_dance_dataset/{0}{1}'.format(i,'_obj.jpg')\n",
    "    crop_img(start, stop, old_path, new_path)"
   ]
  }
 ],
 "metadata": {
  "kernelspec": {
   "display_name": "Python 3",
   "language": "python",
   "name": "python3"
  },
  "language_info": {
   "codemirror_mode": {
    "name": "ipython",
    "version": 3
   },
   "file_extension": ".py",
   "mimetype": "text/x-python",
   "name": "python",
   "nbconvert_exporter": "python",
   "pygments_lexer": "ipython3",
   "version": "3.6.9"
  }
 },
 "nbformat": 4,
 "nbformat_minor": 2
}
